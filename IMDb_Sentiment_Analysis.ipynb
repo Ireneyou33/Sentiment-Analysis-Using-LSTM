{
  "nbformat": 4,
  "nbformat_minor": 0,
  "metadata": {
    "colab": {
      "name": "IMDb Sentiment Analysis.ipynb",
      "provenance": [],
      "collapsed_sections": [],
      "authorship_tag": "ABX9TyPUopJnaNPehsASh7Cq2Ja1"
    },
    "kernelspec": {
      "name": "python3",
      "display_name": "Python 3"
    },
    "accelerator": "GPU"
  },
  "cells": [
    {
      "cell_type": "markdown",
      "metadata": {
        "id": "206afjbNpr-z",
        "colab_type": "text"
      },
      "source": [
        "Putting all together"
      ]
    },
    {
      "cell_type": "code",
      "metadata": {
        "id": "BiTk77HupN7m",
        "colab_type": "code",
        "colab": {
          "base_uri": "https://localhost:8080/",
          "height": 67
        },
        "outputId": "cbc321af-8b22-4f37-c962-da572c9dcd0c"
      },
      "source": [
        "from keras.datasets import imdb\n",
        "from keras.preprocessing import sequence\n",
        "from keras.models import Sequential\n",
        "from keras.layers import Embedding, Dense, LSTM\n",
        "from matplotlib import pyplot as plt\n",
        "from sklearn.metrics import confusion_matrix\n",
        "import seaborn as sns"
      ],
      "execution_count": 1,
      "outputs": [
        {
          "output_type": "stream",
          "text": [
            "Using TensorFlow backend.\n",
            "/usr/local/lib/python3.6/dist-packages/statsmodels/tools/_testing.py:19: FutureWarning: pandas.util.testing is deprecated. Use the functions in the public API at pandas.testing instead.\n",
            "  import pandas.util.testing as tm\n"
          ],
          "name": "stderr"
        }
      ]
    },
    {
      "cell_type": "code",
      "metadata": {
        "id": "hg-9XDptqQQb",
        "colab_type": "code",
        "colab": {
          "base_uri": "https://localhost:8080/",
          "height": 84
        },
        "outputId": "473fd566-831c-4006-9b62-f663c3264a78"
      },
      "source": [
        "# Import IMDB dataset\n",
        "training_set, testing_set = imdb.load_data(num_words=10000)\n",
        "X_train, y_train = training_set\n",
        "X_test, y_test = testing_set\n",
        "\n",
        "print(\"Number of training samples = {}\".format(X_train.shape[0]))\n",
        "print(\"Number of testing samples = {}\".format(X_test.shape[0]))"
      ],
      "execution_count": 2,
      "outputs": [
        {
          "output_type": "stream",
          "text": [
            "Downloading data from https://s3.amazonaws.com/text-datasets/imdb.npz\n",
            "17465344/17464789 [==============================] - 0s 0us/step\n",
            "Number of training samples = 25000\n",
            "Number of testing samples = 25000\n"
          ],
          "name": "stdout"
        }
      ]
    },
    {
      "cell_type": "code",
      "metadata": {
        "id": "Im0jw33XqrJM",
        "colab_type": "code",
        "colab": {
          "base_uri": "https://localhost:8080/",
          "height": 50
        },
        "outputId": "a39ad64a-cd22-41e6-852e-5e208ccaad40"
      },
      "source": [
        "# Zero-Padding\n",
        "X_train_padded = sequence.pad_sequences(X_train, maxlen=100) # maxlen = maximum length of each movie review\n",
        "X_test_padded = sequence.pad_sequences(X_test, maxlen=100)\n",
        "\n",
        "print(\"X_train vector shape = {}\".format(X_train_padded.shape))\n",
        "print(\"X_test vector shape = {}\".format(X_test_padded.shape))"
      ],
      "execution_count": 3,
      "outputs": [
        {
          "output_type": "stream",
          "text": [
            "X_train vector shape = (25000, 100)\n",
            "X_test vector shape = (25000, 100)\n"
          ],
          "name": "stdout"
        }
      ]
    },
    {
      "cell_type": "code",
      "metadata": {
        "id": "CPa-UlIEqz_4",
        "colab_type": "code",
        "colab": {}
      },
      "source": [
        "def train_model(Optimizer, X_train, y_train, X_val, y_val):\n",
        "  model = Sequential()\n",
        "  model.add(Embedding(input_dim=10000, output_dim=128))\n",
        "  model.add(LSTM(units=128))\n",
        "  model.add(Dense(units=1, activation='sigmoid'))\n",
        "  model.compile(loss='binary_crossentropy', optimizer = Optimizer, metrics=['accuracy'])\n",
        "  scores = model.fit(X_train, y_train, batch_size=128, epochs=10, validation_data=(X_val, y_val), verbose=0)\n",
        "  return scores, model"
      ],
      "execution_count": 4,
      "outputs": []
    },
    {
      "cell_type": "code",
      "metadata": {
        "id": "J4oWI4acq7x5",
        "colab_type": "code",
        "colab": {
          "base_uri": "https://localhost:8080/",
          "height": 70
        },
        "outputId": "d8235a4b-89c0-4b89-8a53-3e58ea838a7c"
      },
      "source": [
        "# Train Model\n",
        "RMSprop_score, RMSprop_model = train_model(Optimizer='RMSprop', X_train=X_train_padded, y_train=y_train, X_val=X_test_padded, y_val=y_test)"
      ],
      "execution_count": 5,
      "outputs": [
        {
          "output_type": "stream",
          "text": [
            "/usr/local/lib/python3.6/dist-packages/tensorflow/python/framework/indexed_slices.py:434: UserWarning: Converting sparse IndexedSlices to a dense Tensor of unknown shape. This may consume a large amount of memory.\n",
            "  \"Converting sparse IndexedSlices to a dense Tensor of unknown shape. \"\n"
          ],
          "name": "stderr"
        }
      ]
    },
    {
      "cell_type": "code",
      "metadata": {
        "id": "eCPZqR1MrDcY",
        "colab_type": "code",
        "colab": {
          "base_uri": "https://localhost:8080/",
          "height": 295
        },
        "outputId": "5e3d7287-4120-4c66-c9f8-cdbdd50827b5"
      },
      "source": [
        "# Plot Accuracy per Epoch\n",
        "plt.plot(range(1,11), RMSprop_score.history['accuracy'], label='Training Accuracy')\n",
        "plt.plot(range(1,11), RMSprop_score.history['val_accuracy'], label='Validation Accuracy')\n",
        "plt.axis([1,10,0,1])\n",
        "plt.xlabel('Epoch')\n",
        "plt.ylabel('Accuracy')\n",
        "plt.title('Train and Validation Accuracy using RMSprop Optimizer')\n",
        "plt.legend()\n",
        "plt.show()"
      ],
      "execution_count": 7,
      "outputs": [
        {
          "output_type": "display_data",
          "data": {
            "image/png": "[encoded data removed]",
            "text/plain": [
              "<Figure size 432x288 with 1 Axes>"
            ]
          },
          "metadata": {
            "tags": [],
            "needs_background": "light"
          }
        }
      ]
    },
    {
      "cell_type": "code",
      "metadata": {
        "id": "TVWsuZ_mrQMm",
        "colab_type": "code",
        "colab": {
          "base_uri": "https://localhost:8080/",
          "height": 283
        },
        "outputId": "795dc7fa-5c03-4cd5-d9a0-38f3b5e7e83f"
      },
      "source": [
        "# Plot Confusion Matrix\n",
        "y_test_pred = RMSprop_model.predict_classes(X_test_padded)\n",
        "c_matrix = confusion_matrix(y_test, y_test_pred)\n",
        "ax = sns.heatmap(c_matrix, annot=True, xticklabels=['Negative Sentiment', 'Positive Sentiment'], yticklabels=['Negative Sentiment', 'Positive Sentiment'],\n",
        "                 cbar = False, cmap='Blues', fmt='g')\n",
        "ax.set_xlabel(\"Prediction\")\n",
        "ax.set_ylabel(\"Actual\")\n",
        "plt.show()"
      ],
      "execution_count": 8,
      "outputs": [
        {
          "output_type": "display_data",
          "data": {
            "image/png": "[encoded data removed]",
            "text/plain": [
              "<Figure size 432x288 with 1 Axes>"
            ]
          },
          "metadata": {
            "tags": [],
            "needs_background": "light"
          }
        }
      ]
    },
    {
      "cell_type": "code",
      "metadata": {
        "id": "yDAHCUcEAvCV",
        "colab_type": "code",
        "colab": {}
      },
      "source": [
        ""
      ],
      "execution_count": null,
      "outputs": []
    }
  ]
}