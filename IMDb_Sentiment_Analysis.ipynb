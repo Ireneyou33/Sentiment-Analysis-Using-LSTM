{
  "nbformat": 4,
  "nbformat_minor": 0,
  "metadata": {
    "colab": {
      "name": "IMDb Sentiment Analysis.ipynb",
      "provenance": [],
      "collapsed_sections": [],
      "toc_visible": true,
      "authorship_tag": "ABX9TyPL4BNzj2bJqspFvV+pv/56",
      "include_colab_link": true
    },
    "kernelspec": {
      "name": "python3",
      "display_name": "Python 3"
    },
    "accelerator": "GPU"
  },
  "cells": [
    {
      "cell_type": "markdown",
      "metadata": {
        "id": "view-in-github",
        "colab_type": "text"
      },
      "source": [
        "<a href=\"https://colab.research.google.com/github/Ireneyou33/Sentiment-Analysis-Using-LSTM/blob/master/IMDb_Sentiment_Analysis.ipynb\" target=\"_parent\"><img src=\"https://colab.research.google.com/assets/colab-badge.svg\" alt=\"Open In Colab\"/></a>"
      ]
    },
    {
      "cell_type": "markdown",
      "metadata": {
        "id": "3jBAz16SeP-L",
        "colab_type": "text"
      },
      "source": [
        "*   **Sequential problems**: <br> the order of the features presented to the model is important for making predictions.\n",
        "*   **Sentiment Analysis**: <br> the prediction of the positivity of a text."
      ]
    },
    {
      "cell_type": "markdown",
      "metadata": {
        "id": "rfd2_2MMjC_3",
        "colab_type": "text"
      },
      "source": [
        "## RNN"
      ]
    },
    {
      "cell_type": "markdown",
      "metadata": {
        "id": "4Yx2zri9jFLB",
        "colab_type": "text"
      },
      "source": [
        "Break the raw input into time steps. For instance, break up the sentence into individual words. Each layer in RNN passes its output to the next layer. The intermediate output passed from layer to layer is known as the hidden state. Essentially, the hidden state allows an RNN to maintain a memory of the intermediate states from the sequential data."
      ]
    },
    {
      "cell_type": "markdown",
      "metadata": {
        "id": "uF6W90CblmXy",
        "colab_type": "text"
      },
      "source": [
        "**The vanishing gradient problem**:\n",
        "<br> The vanishing gradient problem is a problem when training DNN using gradient-based methids such as backpropagation. In particular, the loss function provides information on the accuracy of our predictions, and allows us to adjust the weights in each layer, to reduce the loss.\n",
        "<br> When the loss is propagated backward, the loss tends to decrease with each successive layer. As a result, by the time the loss is propagated back toward the first few layers, the loss has already diminished so much that the weights do not change much at all. With such a small loss being propagated backward, it is impossible to adjust and train the weights of the first few layers. This phenomenon is known as the vanishing gradient problem in ML.\n",
        "<br> The vanishing gradient problem does not affect CNNs in computer vision problems. However, when it comes to sequential data and RNNs, the vanishing gradient can have a significant impact. The vanishing gradient problem means that RNNs are unable to learn from early layers, which causes it to have poor long-term memory.\n"
      ]
    },
    {
      "cell_type": "markdown",
      "metadata": {
        "id": "L2Y7i0JtnoRg",
        "colab_type": "text"
      },
      "source": [
        "## LSTM"
      ]
    },
    {
      "cell_type": "markdown",
      "metadata": {
        "id": "kSeyaX9vnqfB",
        "colab_type": "text"
      },
      "source": [
        "The LSTMs selectivly remember important inputs, and this allows them to handle both short- and long-term depedencies.  "
      ]
    },
    {
      "cell_type": "markdown",
      "metadata": {
        "id": "BlNST0E9pEFa",
        "colab_type": "text"
      },
      "source": [
        "**Gates:**\n",
        "*   **Forget Gate**: Decide how much data we should forget or remember from the previous cell state. It does so by first concatinating the *Previous Hidden State* ($h_{t-1}$) and the *current Input* ($x_t$), then passing the concatenated vector through a sigmoid function. The sigmoid function outputs a value btw 0 and 1. A value of 0 means to stop the information from passing through (forget), and a value of 1 means to pass the information through (remember).\n",
        "*   **Input Gate**: Controls how much information to pass to the current cell state. Just like the forget gate, the Input gate (i) takes as input the concatenation of the *Previous Hidden State* ($h_{t-1}$) and the *current Input* (x_t). It then passes two copies of the concatenated vector through a sigmoid function and a tanh function, before multiplying them together.\n",
        "*   **Output Gate**: Controls how much information is to be retained in the hidden state. First, we concatenate the *Previous Hidden State* ($h_{t-1}$) and the *current Input* ($x_t$), and pass it to a sigmoid function. Then, we take the *current cell state* ($C_t$) and pass it through a tanh function. Finally, we take a multiplication of the two, which is passed to the next repeating unit as the hidden state ($h_t$)\n",
        "\n"
      ]
    },
    {
      "cell_type": "markdown",
      "metadata": {
        "id": "wEAngRGJ_7jN",
        "colab_type": "text"
      },
      "source": [
        "## IMDb Dataset Review"
      ]
    },
    {
      "cell_type": "code",
      "metadata": {
        "id": "zavNdEbRdcy7",
        "colab_type": "code",
        "colab": {}
      },
      "source": [
        "from keras.datasets import imdb"
      ],
      "execution_count": 0,
      "outputs": []
    },
    {
      "cell_type": "code",
      "metadata": {
        "id": "cbwyYKfiAHZk",
        "colab_type": "code",
        "colab": {}
      },
      "source": [
        "training_set, testing_set = imdb.load_data(index_from=3)\n",
        "X_train, y_train = training_set\n",
        "X_test, y_test = testing_set"
      ],
      "execution_count": 0,
      "outputs": []
    },
    {
      "cell_type": "code",
      "metadata": {
        "id": "cdaLtU67Air9",
        "colab_type": "code",
        "colab": {
          "base_uri": "https://localhost:8080/",
          "height": 54
        },
        "outputId": "63c19ee5-7200-4fab-a217-d31c28993a90"
      },
      "source": [
        "print(X_train[0])"
      ],
      "execution_count": 29,
      "outputs": [
        {
          "output_type": "stream",
          "text": [
            "[1, 14, 22, 16, 43, 530, 973, 1622, 1385, 65, 458, 4468, 66, 3941, 4, 173, 36, 256, 5, 25, 100, 43, 838, 112, 50, 670, 22665, 9, 35, 480, 284, 5, 150, 4, 172, 112, 167, 21631, 336, 385, 39, 4, 172, 4536, 1111, 17, 546, 38, 13, 447, 4, 192, 50, 16, 6, 147, 2025, 19, 14, 22, 4, 1920, 4613, 469, 4, 22, 71, 87, 12, 16, 43, 530, 38, 76, 15, 13, 1247, 4, 22, 17, 515, 17, 12, 16, 626, 18, 19193, 5, 62, 386, 12, 8, 316, 8, 106, 5, 4, 2223, 5244, 16, 480, 66, 3785, 33, 4, 130, 12, 16, 38, 619, 5, 25, 124, 51, 36, 135, 48, 25, 1415, 33, 6, 22, 12, 215, 28, 77, 52, 5, 14, 407, 16, 82, 10311, 8, 4, 107, 117, 5952, 15, 256, 4, 31050, 7, 3766, 5, 723, 36, 71, 43, 530, 476, 26, 400, 317, 46, 7, 4, 12118, 1029, 13, 104, 88, 4, 381, 15, 297, 98, 32, 2071, 56, 26, 141, 6, 194, 7486, 18, 4, 226, 22, 21, 134, 476, 26, 480, 5, 144, 30, 5535, 18, 51, 36, 28, 224, 92, 25, 104, 4, 226, 65, 16, 38, 1334, 88, 12, 16, 283, 5, 16, 4472, 113, 103, 32, 15, 16, 5345, 19, 178, 32]\n"
          ],
          "name": "stdout"
        }
      ]
    },
    {
      "cell_type": "markdown",
      "metadata": {
        "id": "wK9-8DGqArGT",
        "colab_type": "text"
      },
      "source": [
        "Keras has already encoded the words as numbers as part of the preprocessing.\n",
        "<br> We can convert it back to words, using word-to-index dictionary provided by Keras as part of the dataset:"
      ]
    },
    {
      "cell_type": "code",
      "metadata": {
        "id": "9kVKx4iQApEi",
        "colab_type": "code",
        "colab": {}
      },
      "source": [
        "word_to_id = imdb.get_word_index() # return a dictionary \"{'wana': 52063, 'wang': 5283, ......}\"\n",
        "for key, value in word_to_id.items(): # return a dictionary \"{'wana': 52066, 'wang': 5286, ......}\"\n",
        "  word_to_id[key] += 3\n",
        "word_to_id[\"<PAD>\"] = 0\n",
        "word_to_id[\"<START>\"] = 1"
      ],
      "execution_count": 0,
      "outputs": []
    },
    {
      "cell_type": "code",
      "metadata": {
        "id": "bMRkAJ1YBliq",
        "colab_type": "code",
        "colab": {}
      },
      "source": [
        "id_to_word = {value:key for key, value in word_to_id.items()}"
      ],
      "execution_count": 0,
      "outputs": []
    },
    {
      "cell_type": "markdown",
      "metadata": {
        "id": "o3rHn4J3HiB3",
        "colab_type": "text"
      },
      "source": [
        " Show original review in words"
      ]
    },
    {
      "cell_type": "code",
      "metadata": {
        "id": "fNZEJGmKHbd0",
        "colab_type": "code",
        "colab": {
          "base_uri": "https://localhost:8080/",
          "height": 34
        },
        "outputId": "9b1f1ce2-7f13-47ec-87b1-767775574c21"
      },
      "source": [
        "print(' '.join(id_to_word[id] for id in X_train[159]))"
      ],
      "execution_count": 32,
      "outputs": [
        {
          "output_type": "stream",
          "text": [
            "<START> a rating of 1 does not begin to express how dull depressing and relentlessly bad this movie is\n"
          ],
          "name": "stdout"
        }
      ]
    },
    {
      "cell_type": "code",
      "metadata": {
        "id": "dSuMD7ieHry0",
        "colab_type": "code",
        "colab": {
          "base_uri": "https://localhost:8080/",
          "height": 34
        },
        "outputId": "37cbe3c7-15e8-473f-99b9-d5a1d08cf011"
      },
      "source": [
        "print(y_train[159])"
      ],
      "execution_count": 33,
      "outputs": [
        {
          "output_type": "stream",
          "text": [
            "0\n"
          ],
          "name": "stdout"
        }
      ]
    },
    {
      "cell_type": "markdown",
      "metadata": {
        "id": "61Q9N3yxH48q",
        "colab_type": "text"
      },
      "source": [
        "Value of 0 refers to a negative review and 1 refers to a positive review"
      ]
    },
    {
      "cell_type": "code",
      "metadata": {
        "id": "oQC4rTayH4WI",
        "colab_type": "code",
        "colab": {
          "base_uri": "https://localhost:8080/",
          "height": 54
        },
        "outputId": "7485bc88-c4d8-4523-b0e1-77f88d803e92"
      },
      "source": [
        "print(\" \".join(id_to_word[id] for id in X_train[6]))"
      ],
      "execution_count": 34,
      "outputs": [
        {
          "output_type": "stream",
          "text": [
            "<START> lavish production values and solid performances in this straightforward adaption of jane austen's satirical classic about the marriage game within and between the classes in provincial 18th century england northam and paltrow are a salutory mixture as friends who must pass through jealousies and lies to discover that they love each other good humor is a sustaining virtue which goes a long way towards explaining the accessability of the aged source material which has been toned down a bit in its harsh scepticism i liked the look of the film and how shots were set up and i thought it didn't rely too much on successions of head shots like most other films of the 80s and 90s do very good results\n"
          ],
          "name": "stdout"
        }
      ]
    },
    {
      "cell_type": "code",
      "metadata": {
        "id": "Pcy7GnztIHb3",
        "colab_type": "code",
        "colab": {
          "base_uri": "https://localhost:8080/",
          "height": 34
        },
        "outputId": "848cd034-7cd4-4ee2-e209-36b2a3d027e6"
      },
      "source": [
        "print(y_train[6])"
      ],
      "execution_count": 35,
      "outputs": [
        {
          "output_type": "stream",
          "text": [
            "1\n"
          ],
          "name": "stdout"
        }
      ]
    },
    {
      "cell_type": "markdown",
      "metadata": {
        "id": "jD1k3mHcISlT",
        "colab_type": "text"
      },
      "source": [
        "## Representing words as vectors"
      ]
    },
    {
      "cell_type": "markdown",
      "metadata": {
        "id": "X9XkhplRIVqY",
        "colab_type": "text"
      },
      "source": [
        "### One-hot encdoing"
      ]
    },
    {
      "cell_type": "markdown",
      "metadata": {
        "id": "1pUkHooJIYKd",
        "colab_type": "text"
      },
      "source": [
        "Cons:\n",
        "*   The number of axes(dimensions) depends on number of unique words.\n",
        "*   The vector representataion is extremely sparse.\n",
        "*   The vector representataino doesn't take into consideration the similarity of words.\n",
        "\n"
      ]
    },
    {
      "cell_type": "markdown",
      "metadata": {
        "id": "LUtI2dn-I6uo",
        "colab_type": "text"
      },
      "source": [
        "### Word Embedding"
      ]
    },
    {
      "cell_type": "markdown",
      "metadata": {
        "id": "ubcM3tobI-ft",
        "colab_type": "text"
      },
      "source": [
        "Pros:\n",
        "*   Fewer dimesions.\n",
        "*   They place similar words to each other.\n",
        "\n"
      ]
    },
    {
      "cell_type": "markdown",
      "metadata": {
        "id": "ftevIk3xJLOM",
        "colab_type": "text"
      },
      "source": [
        "## Model Architecture"
      ]
    },
    {
      "cell_type": "markdown",
      "metadata": {
        "id": "DC3e00CMJOSb",
        "colab_type": "text"
      },
      "source": [
        "Input -> Word Embedding -> LSTM -> Dense Layer (activation: sigmoid) -> Output"
      ]
    },
    {
      "cell_type": "code",
      "metadata": {
        "id": "MpWUKn1BJUI6",
        "colab_type": "code",
        "colab": {}
      },
      "source": [
        "training_set, testing_set = imdb.load_data(num_words=10000) # num_words is max number of unique words to be loaded\n",
        "X_train, y_train = training_set\n",
        "X_test, y_test = testing_set"
      ],
      "execution_count": 0,
      "outputs": []
    },
    {
      "cell_type": "code",
      "metadata": {
        "id": "hbbGrdoFJvNg",
        "colab_type": "code",
        "colab": {
          "base_uri": "https://localhost:8080/",
          "height": 50
        },
        "outputId": "ccdfabf9-191f-4f01-cf59-80b029259201"
      },
      "source": [
        "print(\"Number of training samples = {}\".format(X_train.shape[0]))\n",
        "print(\"Number of testing samples = {}\".format(X_test.shape[0]))"
      ],
      "execution_count": 37,
      "outputs": [
        {
          "output_type": "stream",
          "text": [
            "Number of training samples = 25000\n",
            "Number of testing samples = 25000\n"
          ],
          "name": "stdout"
        }
      ]
    },
    {
      "cell_type": "markdown",
      "metadata": {
        "id": "DfbZhOmVJ8sf",
        "colab_type": "text"
      },
      "source": [
        "Length of inputs are different, so we will apply **Zero Padding**. "
      ]
    },
    {
      "cell_type": "code",
      "metadata": {
        "id": "DgK5yOL9J6cY",
        "colab_type": "code",
        "colab": {}
      },
      "source": [
        "from keras.preprocessing import sequence"
      ],
      "execution_count": 0,
      "outputs": []
    },
    {
      "cell_type": "code",
      "metadata": {
        "id": "5tH-qviiKTwX",
        "colab_type": "code",
        "colab": {}
      },
      "source": [
        "X_train_padded = sequence.pad_sequences(X_train, maxlen=100) # maxlen = maximum length of each movie review\n",
        "X_test_padded = sequence.pad_sequences(X_test, maxlen=100)"
      ],
      "execution_count": 0,
      "outputs": []
    },
    {
      "cell_type": "code",
      "metadata": {
        "id": "3WR7v__sKnam",
        "colab_type": "code",
        "colab": {
          "base_uri": "https://localhost:8080/",
          "height": 50
        },
        "outputId": "4cb05d2d-cd86-4ebd-c0b1-83f8adf1bf08"
      },
      "source": [
        "print(\"X_train vector shape = {}\".format(X_train_padded.shape))\n",
        "print(\"X_test vector shape = {}\".format(X_test_padded.shape))"
      ],
      "execution_count": 40,
      "outputs": [
        {
          "output_type": "stream",
          "text": [
            "X_train vector shape = (25000, 100)\n",
            "X_test vector shape = (25000, 100)\n"
          ],
          "name": "stdout"
        }
      ]
    },
    {
      "cell_type": "code",
      "metadata": {
        "id": "IN2h6ce_K4-z",
        "colab_type": "code",
        "colab": {}
      },
      "source": [
        "from keras.models import Sequential"
      ],
      "execution_count": 0,
      "outputs": []
    },
    {
      "cell_type": "code",
      "metadata": {
        "id": "q7SmMZQ1K9ZH",
        "colab_type": "code",
        "colab": {}
      },
      "source": [
        "model = Sequential()"
      ],
      "execution_count": 0,
      "outputs": []
    },
    {
      "cell_type": "code",
      "metadata": {
        "id": "Xn_OCCFfK-r5",
        "colab_type": "code",
        "colab": {}
      },
      "source": [
        "from keras.layers import Embedding"
      ],
      "execution_count": 0,
      "outputs": []
    },
    {
      "cell_type": "markdown",
      "metadata": {
        "id": "U709QAreLGuK",
        "colab_type": "text"
      },
      "source": [
        "Embedding parameters:\n",
        "*   input_dim: The input dimensions of the word embedding layer. This should be the same as the num_words parameter that we used when we loaded in our data.\n",
        "*   output_dim: A hyperparameter to be fine-tuned"
      ]
    },
    {
      "cell_type": "code",
      "metadata": {
        "id": "1h0InOxpLBk5",
        "colab_type": "code",
        "colab": {}
      },
      "source": [
        "model.add(Embedding(input_dim=10000, output_dim=128))"
      ],
      "execution_count": 0,
      "outputs": []
    },
    {
      "cell_type": "code",
      "metadata": {
        "id": "W_8bMXuSLna5",
        "colab_type": "code",
        "colab": {}
      },
      "source": [
        "from keras.layers import LSTM, Dense"
      ],
      "execution_count": 0,
      "outputs": []
    },
    {
      "cell_type": "markdown",
      "metadata": {
        "id": "qDe1hgLHMLr3",
        "colab_type": "text"
      },
      "source": [
        "LSTM parameters:\n",
        "*   units: Number of recurring units in the LSTM layer. \n",
        "*   activation: The cell state and hidden state activatoin function. (Default: tanh)\n",
        "*   recurrent_activation: The forget, input and output gates activation function. (Default: sigmoid)\n",
        "\n"
      ]
    },
    {
      "cell_type": "code",
      "metadata": {
        "id": "X3ZWlzi3Lqft",
        "colab_type": "code",
        "colab": {}
      },
      "source": [
        "model.add(LSTM(units=128))"
      ],
      "execution_count": 0,
      "outputs": []
    },
    {
      "cell_type": "code",
      "metadata": {
        "id": "ITf-geLzM2A6",
        "colab_type": "code",
        "colab": {}
      },
      "source": [
        "model.add(Dense(units=1, activation='sigmoid'))"
      ],
      "execution_count": 0,
      "outputs": []
    },
    {
      "cell_type": "code",
      "metadata": {
        "id": "auy3aNNMNFUh",
        "colab_type": "code",
        "colab": {
          "base_uri": "https://localhost:8080/",
          "height": 252
        },
        "outputId": "88c8839f-f994-431f-881e-da496250f394"
      },
      "source": [
        "model.summary()"
      ],
      "execution_count": 48,
      "outputs": [
        {
          "output_type": "stream",
          "text": [
            "Model: \"sequential_4\"\n",
            "_________________________________________________________________\n",
            "Layer (type)                 Output Shape              Param #   \n",
            "=================================================================\n",
            "embedding_4 (Embedding)      (None, None, 128)         1280000   \n",
            "_________________________________________________________________\n",
            "lstm_4 (LSTM)                (None, 128)               131584    \n",
            "_________________________________________________________________\n",
            "dense_4 (Dense)              (None, 1)                 129       \n",
            "=================================================================\n",
            "Total params: 1,411,713\n",
            "Trainable params: 1,411,713\n",
            "Non-trainable params: 0\n",
            "_________________________________________________________________\n"
          ],
          "name": "stdout"
        }
      ]
    },
    {
      "cell_type": "markdown",
      "metadata": {
        "id": "jZgRHruJNUMd",
        "colab_type": "text"
      },
      "source": [
        "## Compiling and Training Models"
      ]
    },
    {
      "cell_type": "markdown",
      "metadata": {
        "id": "cyUhlTtuNX3I",
        "colab_type": "text"
      },
      "source": [
        "\n",
        "\n",
        "*   **Loss Function**: \n",
        "  *   binary_crossentropy: Apply when the target output is binary.\n",
        "  *   categorical_crossentropy: Apply when the target output is multi-class.\n",
        "\n",
        "*   **Optimizer**:\n",
        "  *   Due to vanishing/exploding gradient problem, it's impossible to know beforehand which optimizer works better for the dataset. Usually try multiple optimizers and compare. (eg: SGD, RMSprop and adam)\n"
      ]
    },
    {
      "cell_type": "code",
      "metadata": {
        "id": "3btr8iWnPaKQ",
        "colab_type": "code",
        "colab": {}
      },
      "source": [
        "def train_model(Optimizer, X_train, y_train, X_val, y_val):\n",
        "  model = Sequential()\n",
        "  model.add(Embedding(input_dim=10000, output_dim=128))\n",
        "  model.add(LSTM(units=128))\n",
        "  model.add(Dense(units=1, activation='sigmoid'))\n",
        "  model.compile(loss='binary_crossentropy', optimizer = Optimizer, metrics=['accuracy'])\n",
        "  scores = model.fit(X_train, y_train, batch_size=128, epochs=10, validation_data=(X_val, y_val), verbose=0)\n",
        "  return scores, model"
      ],
      "execution_count": 0,
      "outputs": []
    },
    {
      "cell_type": "code",
      "metadata": {
        "id": "sXfWHXzYQMuD",
        "colab_type": "code",
        "colab": {
          "base_uri": "https://localhost:8080/",
          "height": 70
        },
        "outputId": "21e547af-a79e-4465-b764-dada5da2bada"
      },
      "source": [
        "SGD_score, SGD_model = train_model(Optimizer='sgd', X_train=X_train_padded, y_train=y_train, X_val=X_test_padded, y_val=y_test)"
      ],
      "execution_count": 50,
      "outputs": [
        {
          "output_type": "stream",
          "text": [
            "/usr/local/lib/python3.6/dist-packages/tensorflow/python/framework/indexed_slices.py:434: UserWarning: Converting sparse IndexedSlices to a dense Tensor of unknown shape. This may consume a large amount of memory.\n",
            "  \"Converting sparse IndexedSlices to a dense Tensor of unknown shape. \"\n"
          ],
          "name": "stderr"
        }
      ]
    },
    {
      "cell_type": "code",
      "metadata": {
        "id": "1tPGx_tSQ3DB",
        "colab_type": "code",
        "colab": {
          "base_uri": "https://localhost:8080/",
          "height": 70
        },
        "outputId": "750ad4eb-101d-4561-8276-2a9c549a9489"
      },
      "source": [
        "RMSprop_score, RMSprop_model = train_model(Optimizer='RMSprop', X_train=X_train_padded, y_train=y_train, X_val=X_test_padded, y_val=y_test)"
      ],
      "execution_count": 51,
      "outputs": [
        {
          "output_type": "stream",
          "text": [
            "/usr/local/lib/python3.6/dist-packages/tensorflow/python/framework/indexed_slices.py:434: UserWarning: Converting sparse IndexedSlices to a dense Tensor of unknown shape. This may consume a large amount of memory.\n",
            "  \"Converting sparse IndexedSlices to a dense Tensor of unknown shape. \"\n"
          ],
          "name": "stderr"
        }
      ]
    },
    {
      "cell_type": "code",
      "metadata": {
        "id": "1J-K9OtlRLYd",
        "colab_type": "code",
        "colab": {
          "base_uri": "https://localhost:8080/",
          "height": 70
        },
        "outputId": "8845baf4-02bb-45fb-d6e7-919664a77a8e"
      },
      "source": [
        "Adam_score, Adam_model = train_model(Optimizer='adam', X_train=X_train_padded, y_train=y_train, X_val=X_test_padded, y_val=y_test)"
      ],
      "execution_count": 52,
      "outputs": [
        {
          "output_type": "stream",
          "text": [
            "/usr/local/lib/python3.6/dist-packages/tensorflow/python/framework/indexed_slices.py:434: UserWarning: Converting sparse IndexedSlices to a dense Tensor of unknown shape. This may consume a large amount of memory.\n",
            "  \"Converting sparse IndexedSlices to a dense Tensor of unknown shape. \"\n"
          ],
          "name": "stderr"
        }
      ]
    },
    {
      "cell_type": "markdown",
      "metadata": {
        "id": "NxaBGPGogGgu",
        "colab_type": "text"
      },
      "source": [
        "## Result Analysis"
      ]
    },
    {
      "cell_type": "code",
      "metadata": {
        "id": "484PWKVEgA2v",
        "colab_type": "code",
        "colab": {}
      },
      "source": [
        "from matplotlib import pyplot as plt"
      ],
      "execution_count": 0,
      "outputs": []
    },
    {
      "cell_type": "code",
      "metadata": {
        "id": "RHv_szf-gGHq",
        "colab_type": "code",
        "colab": {
          "base_uri": "https://localhost:8080/",
          "height": 295
        },
        "outputId": "4a9e43c0-1680-40ae-aa26-2ebbb1aa9114"
      },
      "source": [
        "plt.plot(range(1,11), SGD_score.history['accuracy'], label='Training Accuracy')\n",
        "plt.plot(range(1,11), SGD_score.history['val_accuracy'], label='Validation Accuracy')\n",
        "plt.axis([1,10,0,1])\n",
        "plt.xlabel('Epoch')\n",
        "plt.ylabel('Accuracy')\n",
        "plt.title('Train and Validation Accuracy using SGD Optimizer')\n",
        "plt.legend()\n",
        "plt.show()"
      ],
      "execution_count": 61,
      "outputs": [
        {
          "output_type": "display_data",
          "data": {
            "image/png": "[encoded data removed]",
            "text/plain": [
              "<Figure size 432x288 with 1 Axes>"
            ]
          },
          "metadata": {
            "tags": [],
            "needs_background": "light"
          }
        }
      ]
    },
    {
      "cell_type": "markdown",
      "metadata": {
        "id": "xQRWizsyhYbI",
        "colab_type": "text"
      },
      "source": [
        "Both accuracy are around 50%, which means SGD is not suitable"
      ]
    },
    {
      "cell_type": "code",
      "metadata": {
        "id": "D4ulgpd_hF1G",
        "colab_type": "code",
        "colab": {
          "base_uri": "https://localhost:8080/",
          "height": 295
        },
        "outputId": "617ef4d7-b26f-442b-f26e-619b35c99027"
      },
      "source": [
        "plt.plot(range(1,11), RMSprop_score.history['accuracy'], label='Training Accuracy')\n",
        "plt.plot(range(1,11), RMSprop_score.history['val_accuracy'], label='Validation Accuracy')\n",
        "plt.axis([1,10,0,1])\n",
        "plt.xlabel('Epoch')\n",
        "plt.ylabel('Accuracy')\n",
        "plt.title('Train and Validation Accuracy using RMSprop Optimizer')\n",
        "plt.grid(True)\n",
        "plt.legend()\n",
        "plt.show()"
      ],
      "execution_count": 65,
      "outputs": [
        {
          "output_type": "display_data",
          "data": {
            "image/png": "[encoded data removed]",
            "text/plain": [
              "<Figure size 432x288 with 1 Axes>"
            ]
          },
          "metadata": {
            "tags": [],
            "needs_background": "light"
          }
        }
      ]
    },
    {
      "cell_type": "code",
      "metadata": {
        "id": "hEAoPV0Bhjtb",
        "colab_type": "code",
        "colab": {
          "base_uri": "https://localhost:8080/",
          "height": 295
        },
        "outputId": "8b942357-5745-4630-cdbb-3b6b156b6ff5"
      },
      "source": [
        "plt.plot(range(1,11), Adam_score.history['accuracy'], label='Training Accuracy')\n",
        "plt.plot(range(1,11), Adam_score.history['val_accuracy'], label='Validation Accuracy')\n",
        "plt.axis([1,10,0,1])\n",
        "plt.xlabel('Epoch')\n",
        "plt.ylabel('Accuracy')\n",
        "plt.title('Train and Validation Accuracy using Adam Optimizer')\n",
        "plt.grid(True)\n",
        "plt.legend()\n",
        "plt.show()"
      ],
      "execution_count": 64,
      "outputs": [
        {
          "output_type": "display_data",
          "data": {
            "image/png": "[encoded data removed]",
            "text/plain": [
              "<Figure size 432x288 with 1 Axes>"
            ]
          },
          "metadata": {
            "tags": [],
            "needs_background": "light"
          }
        }
      ]
    },
    {
      "cell_type": "markdown",
      "metadata": {
        "id": "nKK6MbiMiHOf",
        "colab_type": "text"
      },
      "source": [
        "Choose the one who has smaller gap between validation acc and training acc."
      ]
    },
    {
      "cell_type": "code",
      "metadata": {
        "id": "8XEu4Cc0hwke",
        "colab_type": "code",
        "colab": {}
      },
      "source": [
        ""
      ],
      "execution_count": 0,
      "outputs": []
    }
  ]
}